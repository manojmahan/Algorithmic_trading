{
 "cells": [
  {
   "cell_type": "markdown",
   "metadata": {
    "_uuid": "b1c9c8a0c97a41344c0ef71852484f43c3217576"
   },
   "source": [
    "# Algorithmic trading with python (using LSTM)\n",
    "\n",
    "We use a Long Short Time Memory recurrent neural network to develop a good trading strategy for the S&P 500 index.\n"
   ]
  },
  {
   "cell_type": "markdown",
   "metadata": {},
   "source": [
    "# First we import all required libraries "
   ]
  },
  {
   "cell_type": "code",
   "execution_count": 1,
   "metadata": {
    "_uuid": "484ebc341906e4a8626cc86654812a71c2543950"
   },
   "outputs": [
    {
     "name": "stderr",
     "output_type": "stream",
     "text": [
      "C:\\Users\\mkmah\\anaconda3\\envs\\en_2\\lib\\site-packages\\tensorflow\\python\\framework\\dtypes.py:516: FutureWarning: Passing (type, 1) or '1type' as a synonym of type is deprecated; in a future version of numpy, it will be understood as (type, (1,)) / '(1,)type'.\n",
      "  _np_qint8 = np.dtype([(\"qint8\", np.int8, 1)])\n",
      "C:\\Users\\mkmah\\anaconda3\\envs\\en_2\\lib\\site-packages\\tensorflow\\python\\framework\\dtypes.py:517: FutureWarning: Passing (type, 1) or '1type' as a synonym of type is deprecated; in a future version of numpy, it will be understood as (type, (1,)) / '(1,)type'.\n",
      "  _np_quint8 = np.dtype([(\"quint8\", np.uint8, 1)])\n",
      "C:\\Users\\mkmah\\anaconda3\\envs\\en_2\\lib\\site-packages\\tensorflow\\python\\framework\\dtypes.py:518: FutureWarning: Passing (type, 1) or '1type' as a synonym of type is deprecated; in a future version of numpy, it will be understood as (type, (1,)) / '(1,)type'.\n",
      "  _np_qint16 = np.dtype([(\"qint16\", np.int16, 1)])\n",
      "C:\\Users\\mkmah\\anaconda3\\envs\\en_2\\lib\\site-packages\\tensorflow\\python\\framework\\dtypes.py:519: FutureWarning: Passing (type, 1) or '1type' as a synonym of type is deprecated; in a future version of numpy, it will be understood as (type, (1,)) / '(1,)type'.\n",
      "  _np_quint16 = np.dtype([(\"quint16\", np.uint16, 1)])\n",
      "C:\\Users\\mkmah\\anaconda3\\envs\\en_2\\lib\\site-packages\\tensorflow\\python\\framework\\dtypes.py:520: FutureWarning: Passing (type, 1) or '1type' as a synonym of type is deprecated; in a future version of numpy, it will be understood as (type, (1,)) / '(1,)type'.\n",
      "  _np_qint32 = np.dtype([(\"qint32\", np.int32, 1)])\n",
      "C:\\Users\\mkmah\\anaconda3\\envs\\en_2\\lib\\site-packages\\tensorflow\\python\\framework\\dtypes.py:525: FutureWarning: Passing (type, 1) or '1type' as a synonym of type is deprecated; in a future version of numpy, it will be understood as (type, (1,)) / '(1,)type'.\n",
      "  np_resource = np.dtype([(\"resource\", np.ubyte, 1)])\n",
      "C:\\Users\\mkmah\\anaconda3\\envs\\en_2\\lib\\site-packages\\tensorboard\\compat\\tensorflow_stub\\dtypes.py:541: FutureWarning: Passing (type, 1) or '1type' as a synonym of type is deprecated; in a future version of numpy, it will be understood as (type, (1,)) / '(1,)type'.\n",
      "  _np_qint8 = np.dtype([(\"qint8\", np.int8, 1)])\n",
      "C:\\Users\\mkmah\\anaconda3\\envs\\en_2\\lib\\site-packages\\tensorboard\\compat\\tensorflow_stub\\dtypes.py:542: FutureWarning: Passing (type, 1) or '1type' as a synonym of type is deprecated; in a future version of numpy, it will be understood as (type, (1,)) / '(1,)type'.\n",
      "  _np_quint8 = np.dtype([(\"quint8\", np.uint8, 1)])\n",
      "C:\\Users\\mkmah\\anaconda3\\envs\\en_2\\lib\\site-packages\\tensorboard\\compat\\tensorflow_stub\\dtypes.py:543: FutureWarning: Passing (type, 1) or '1type' as a synonym of type is deprecated; in a future version of numpy, it will be understood as (type, (1,)) / '(1,)type'.\n",
      "  _np_qint16 = np.dtype([(\"qint16\", np.int16, 1)])\n",
      "C:\\Users\\mkmah\\anaconda3\\envs\\en_2\\lib\\site-packages\\tensorboard\\compat\\tensorflow_stub\\dtypes.py:544: FutureWarning: Passing (type, 1) or '1type' as a synonym of type is deprecated; in a future version of numpy, it will be understood as (type, (1,)) / '(1,)type'.\n",
      "  _np_quint16 = np.dtype([(\"quint16\", np.uint16, 1)])\n",
      "C:\\Users\\mkmah\\anaconda3\\envs\\en_2\\lib\\site-packages\\tensorboard\\compat\\tensorflow_stub\\dtypes.py:545: FutureWarning: Passing (type, 1) or '1type' as a synonym of type is deprecated; in a future version of numpy, it will be understood as (type, (1,)) / '(1,)type'.\n",
      "  _np_qint32 = np.dtype([(\"qint32\", np.int32, 1)])\n",
      "C:\\Users\\mkmah\\anaconda3\\envs\\en_2\\lib\\site-packages\\tensorboard\\compat\\tensorflow_stub\\dtypes.py:550: FutureWarning: Passing (type, 1) or '1type' as a synonym of type is deprecated; in a future version of numpy, it will be understood as (type, (1,)) / '(1,)type'.\n",
      "  np_resource = np.dtype([(\"resource\", np.ubyte, 1)])\n"
     ]
    }
   ],
   "source": [
    "from __future__ import division\n",
    "import pandas as pd\n",
    "import numpy as np\n",
    "import datetime\n",
    "import time\n",
    "import matplotlib.pyplot as plt\n",
    "\n",
    "from sklearn.preprocessing import MinMaxScaler\n",
    "\n",
    "from tensorflow.keras.models import Sequential\n",
    "from tensorflow.keras.layers import Dense\n",
    "from tensorflow.keras.layers import LSTM"
   ]
  },
  {
   "cell_type": "markdown",
   "metadata": {
    "_uuid": "66bcd9b6d447b303bcc922017e9aeadbd699ff06"
   },
   "source": [
    "## Part 1: Get the data \n",
    "\n",
    "We used Yahoo Finance to get the data\n",
    "\n",
    "\n"
   ]
  },
  {
   "cell_type": "code",
   "execution_count": 2,
   "metadata": {},
   "outputs": [],
   "source": [
    "import yfinance as yf\n",
    "import plotly.graph_objs as go\n",
    "import pandas_datareader as pdr"
   ]
  },
  {
   "cell_type": "code",
   "execution_count": 3,
   "metadata": {
    "_uuid": "d3da9db4d23cf067cfcfd403f013f1167a1a1f11"
   },
   "outputs": [],
   "source": [
    "start_date=datetime.datetime(2021,6,11) #define start date to get the data\n",
    "end_date=datetime.date.today() # today data to get data of today"
   ]
  },
  {
   "cell_type": "markdown",
   "metadata": {},
   "source": [
    "here we will use the data of last six month because if we take data the large data then our prediction stock price will wrong \n",
    "because mostly company's stock grow in last some year so by large data mostly predicted price will be low ."
   ]
  },
  {
   "cell_type": "code",
   "execution_count": 4,
   "metadata": {
    "_uuid": "a3aaa5c3bd76c4f477de7e4b0fa2ea3b6eaaa1cc"
   },
   "outputs": [],
   "source": [
    "df = pdr.get_data_yahoo('CIPLA.NS', start=start_date, end=end_date) \n",
    "df.drop(\"Adj Close\",axis=1,inplace=True) #drop the Adj Close columns\n",
    "df.to_csv(\"data.csv\") #save data to csv file "
   ]
  },
  {
   "cell_type": "code",
   "execution_count": 5,
   "metadata": {
    "scrolled": false
   },
   "outputs": [
    {
     "data": {
      "text/html": [
       "<div>\n",
       "<style scoped>\n",
       "    .dataframe tbody tr th:only-of-type {\n",
       "        vertical-align: middle;\n",
       "    }\n",
       "\n",
       "    .dataframe tbody tr th {\n",
       "        vertical-align: top;\n",
       "    }\n",
       "\n",
       "    .dataframe thead th {\n",
       "        text-align: right;\n",
       "    }\n",
       "</style>\n",
       "<table border=\"1\" class=\"dataframe\">\n",
       "  <thead>\n",
       "    <tr style=\"text-align: right;\">\n",
       "      <th></th>\n",
       "      <th>High</th>\n",
       "      <th>Low</th>\n",
       "      <th>Open</th>\n",
       "      <th>Close</th>\n",
       "      <th>Volume</th>\n",
       "    </tr>\n",
       "    <tr>\n",
       "      <th>Date</th>\n",
       "      <th></th>\n",
       "      <th></th>\n",
       "      <th></th>\n",
       "      <th></th>\n",
       "      <th></th>\n",
       "    </tr>\n",
       "  </thead>\n",
       "  <tbody>\n",
       "    <tr>\n",
       "      <th>2021-11-30</th>\n",
       "      <td>984.000000</td>\n",
       "      <td>958.599976</td>\n",
       "      <td>965.000000</td>\n",
       "      <td>971.299988</td>\n",
       "      <td>4771579.0</td>\n",
       "    </tr>\n",
       "    <tr>\n",
       "      <th>2021-12-01</th>\n",
       "      <td>986.700012</td>\n",
       "      <td>921.849976</td>\n",
       "      <td>980.750000</td>\n",
       "      <td>928.150024</td>\n",
       "      <td>3879683.0</td>\n",
       "    </tr>\n",
       "    <tr>\n",
       "      <th>2021-12-02</th>\n",
       "      <td>937.950012</td>\n",
       "      <td>917.500000</td>\n",
       "      <td>937.950012</td>\n",
       "      <td>921.250000</td>\n",
       "      <td>2749084.0</td>\n",
       "    </tr>\n",
       "    <tr>\n",
       "      <th>2021-12-03</th>\n",
       "      <td>930.000000</td>\n",
       "      <td>908.299988</td>\n",
       "      <td>930.000000</td>\n",
       "      <td>912.049988</td>\n",
       "      <td>2388529.0</td>\n",
       "    </tr>\n",
       "    <tr>\n",
       "      <th>2021-12-06</th>\n",
       "      <td>915.799988</td>\n",
       "      <td>892.500000</td>\n",
       "      <td>915.099976</td>\n",
       "      <td>894.950012</td>\n",
       "      <td>1572284.0</td>\n",
       "    </tr>\n",
       "  </tbody>\n",
       "</table>\n",
       "</div>"
      ],
      "text/plain": [
       "                  High         Low        Open       Close     Volume\n",
       "Date                                                                 \n",
       "2021-11-30  984.000000  958.599976  965.000000  971.299988  4771579.0\n",
       "2021-12-01  986.700012  921.849976  980.750000  928.150024  3879683.0\n",
       "2021-12-02  937.950012  917.500000  937.950012  921.250000  2749084.0\n",
       "2021-12-03  930.000000  908.299988  930.000000  912.049988  2388529.0\n",
       "2021-12-06  915.799988  892.500000  915.099976  894.950012  1572284.0"
      ]
     },
     "execution_count": 5,
     "metadata": {},
     "output_type": "execute_result"
    }
   ],
   "source": [
    "df.tail()"
   ]
  },
  {
   "cell_type": "markdown",
   "metadata": {},
   "source": [
    "# Historical Data Visualization"
   ]
  },
  {
   "cell_type": "code",
   "execution_count": 6,
   "metadata": {
    "scrolled": true
   },
   "outputs": [
    {
     "data": {
      "image/png": "[encoded data removed]",
      "text/plain": [
       "<Figure size 1800x504 with 1 Axes>"
      ]
     },
     "metadata": {
      "needs_background": "light"
     },
     "output_type": "display_data"
    }
   ],
   "source": [
    "plt.figure(figsize=(25,7))\n",
    "plt.title('historical price')\n",
    "plt.plot(df['Close'])\n",
    "plt.xlabel('year', fontsize=18)\n",
    "plt.ylabel('Close_Price', fontsize=18)\n",
    "plt.grid()\n",
    "plt.show()"
   ]
  },
  {
   "cell_type": "code",
   "execution_count": 7,
   "metadata": {},
   "outputs": [],
   "source": [
    "df1=df.reset_index()['Close'] #define a dataframe with only previous closing price"
   ]
  },
  {
   "cell_type": "code",
   "execution_count": 8,
   "metadata": {
    "scrolled": true
   },
   "outputs": [
    {
     "data": {
      "text/plain": [
       "0      967.849976\n",
       "1      976.150024\n",
       "2      969.700012\n",
       "3      956.750000\n",
       "4      950.950012\n",
       "          ...    \n",
       "116    971.299988\n",
       "117    928.150024\n",
       "118    921.250000\n",
       "119    912.049988\n",
       "120    894.950012\n",
       "Name: Close, Length: 121, dtype: float64"
      ]
     },
     "execution_count": 8,
     "metadata": {},
     "output_type": "execute_result"
    }
   ],
   "source": [
    "df1"
   ]
  },
  {
   "cell_type": "code",
   "execution_count": 9,
   "metadata": {},
   "outputs": [],
   "source": [
    "scaler=MinMaxScaler(feature_range=(0,1))\n",
    "df1=scaler.fit_transform(np.array(df1).reshape(-1,1))"
   ]
  },
  {
   "cell_type": "code",
   "execution_count": 10,
   "metadata": {
    "scrolled": true
   },
   "outputs": [
    {
     "name": "stdout",
     "output_type": "stream",
     "text": [
      "[[0.81100478]\n",
      " [0.89043109]\n",
      " [0.82870848]\n",
      " [0.70478492]\n",
      " [0.64928265]\n",
      " [0.74449807]\n",
      " [0.73732104]\n",
      " [0.69617225]\n",
      " [0.7143543 ]\n",
      " [0.6488043 ]\n",
      " [0.70813397]\n",
      " [0.76507189]\n",
      " [0.92344498]\n",
      " [0.84976123]\n",
      " [0.90909091]\n",
      " [0.91961758]\n",
      " [0.87655537]\n",
      " [0.82296651]\n",
      " [0.78564628]\n",
      " [0.64641195]\n",
      " [0.73397141]\n",
      " [0.73444976]\n",
      " [0.78995262]\n",
      " [0.90000047]\n",
      " [0.86602871]\n",
      " [0.90000047]\n",
      " [0.86985669]\n",
      " [0.68947415]\n",
      " [0.63923492]\n",
      " [0.62105287]\n",
      " [0.64545466]\n",
      " [0.28708134]\n",
      " [0.06507224]\n",
      " [0.        ]\n",
      " [0.35358863]\n",
      " [0.36315801]\n",
      " [0.43110095]\n",
      " [0.54114879]\n",
      " [0.59617272]\n",
      " [0.26985658]\n",
      " [0.34019185]\n",
      " [0.28229665]\n",
      " [0.25598086]\n",
      " [0.21244031]\n",
      " [0.10813444]\n",
      " [0.04928253]\n",
      " [0.20622056]\n",
      " [0.24641148]\n",
      " [0.07416268]\n",
      " [0.14593301]\n",
      " [0.33062248]\n",
      " [0.28229665]\n",
      " [0.26985658]\n",
      " [0.39043109]\n",
      " [0.49378025]\n",
      " [0.61913887]\n",
      " [0.38038278]\n",
      " [0.69043086]\n",
      " [0.55502392]\n",
      " [0.64210561]\n",
      " [0.64497631]\n",
      " [0.65741638]\n",
      " [0.63349294]\n",
      " [0.64449796]\n",
      " [0.6703354 ]\n",
      " [0.6684214 ]\n",
      " [0.67846913]\n",
      " [0.67894749]\n",
      " [0.52631579]\n",
      " [0.69856459]\n",
      " [0.76937822]\n",
      " [0.81339713]\n",
      " [0.80909138]\n",
      " [0.76172284]\n",
      " [0.84114856]\n",
      " [1.        ]\n",
      " [0.96124414]\n",
      " [0.98660322]\n",
      " [0.71196196]\n",
      " [0.49234461]\n",
      " [0.29043097]\n",
      " [0.31531112]\n",
      " [0.32535885]\n",
      " [0.29330167]\n",
      " [0.31435442]\n",
      " [0.29090932]\n",
      " [0.27033493]\n",
      " [0.19760789]\n",
      " [0.22105298]\n",
      " [0.21818229]\n",
      " [0.27224892]\n",
      " [0.12679426]\n",
      " [0.17942584]\n",
      " [0.23349306]\n",
      " [0.37703373]\n",
      " [0.08277535]\n",
      " [0.21004796]\n",
      " [0.25023947]\n",
      " [0.19425884]\n",
      " [0.28277559]\n",
      " [0.26411518]\n",
      " [0.29282332]\n",
      " [0.29712965]\n",
      " [0.28086159]\n",
      " [0.20861291]\n",
      " [0.31435442]\n",
      " [0.52679473]\n",
      " [0.36985669]\n",
      " [0.21291866]\n",
      " [0.08803839]\n",
      " [0.11770382]\n",
      " [0.26315789]\n",
      " [0.09904341]\n",
      " [0.16124437]\n",
      " [0.80000035]\n",
      " [0.78373229]\n",
      " [0.84401926]\n",
      " [0.43110095]\n",
      " [0.365072  ]\n",
      " [0.27703361]\n",
      " [0.11339748]]\n"
     ]
    }
   ],
   "source": [
    "print(df1)"
   ]
  },
  {
   "cell_type": "code",
   "execution_count": 11,
   "metadata": {},
   "outputs": [],
   "source": [
    "##splitting dataset into train and test split\n",
    "training_size=int(len(df1)*0.9) # set 90% data is equal to train \n",
    "test_size=len(df1)-training_size\n",
    "train_data,test_data=df1[0:training_size,:],df1[training_size:len(df1),:1]"
   ]
  },
  {
   "cell_type": "code",
   "execution_count": 12,
   "metadata": {},
   "outputs": [
    {
     "data": {
      "text/plain": [
       "(108, 13)"
      ]
     },
     "execution_count": 12,
     "metadata": {},
     "output_type": "execute_result"
    }
   ],
   "source": [
    "training_size,test_size"
   ]
  },
  {
   "cell_type": "code",
   "execution_count": 13,
   "metadata": {},
   "outputs": [
    {
     "data": {
      "text/plain": [
       "array([[0.81100478],\n",
       "       [0.89043109],\n",
       "       [0.82870848],\n",
       "       [0.70478492],\n",
       "       [0.64928265],\n",
       "       [0.74449807],\n",
       "       [0.73732104],\n",
       "       [0.69617225],\n",
       "       [0.7143543 ],\n",
       "       [0.6488043 ],\n",
       "       [0.70813397],\n",
       "       [0.76507189],\n",
       "       [0.92344498],\n",
       "       [0.84976123],\n",
       "       [0.90909091],\n",
       "       [0.91961758],\n",
       "       [0.87655537],\n",
       "       [0.82296651],\n",
       "       [0.78564628],\n",
       "       [0.64641195],\n",
       "       [0.73397141],\n",
       "       [0.73444976],\n",
       "       [0.78995262],\n",
       "       [0.90000047],\n",
       "       [0.86602871],\n",
       "       [0.90000047],\n",
       "       [0.86985669],\n",
       "       [0.68947415],\n",
       "       [0.63923492],\n",
       "       [0.62105287],\n",
       "       [0.64545466],\n",
       "       [0.28708134],\n",
       "       [0.06507224],\n",
       "       [0.        ],\n",
       "       [0.35358863],\n",
       "       [0.36315801],\n",
       "       [0.43110095],\n",
       "       [0.54114879],\n",
       "       [0.59617272],\n",
       "       [0.26985658],\n",
       "       [0.34019185],\n",
       "       [0.28229665],\n",
       "       [0.25598086],\n",
       "       [0.21244031],\n",
       "       [0.10813444],\n",
       "       [0.04928253],\n",
       "       [0.20622056],\n",
       "       [0.24641148],\n",
       "       [0.07416268],\n",
       "       [0.14593301],\n",
       "       [0.33062248],\n",
       "       [0.28229665],\n",
       "       [0.26985658],\n",
       "       [0.39043109],\n",
       "       [0.49378025],\n",
       "       [0.61913887],\n",
       "       [0.38038278],\n",
       "       [0.69043086],\n",
       "       [0.55502392],\n",
       "       [0.64210561],\n",
       "       [0.64497631],\n",
       "       [0.65741638],\n",
       "       [0.63349294],\n",
       "       [0.64449796],\n",
       "       [0.6703354 ],\n",
       "       [0.6684214 ],\n",
       "       [0.67846913],\n",
       "       [0.67894749],\n",
       "       [0.52631579],\n",
       "       [0.69856459],\n",
       "       [0.76937822],\n",
       "       [0.81339713],\n",
       "       [0.80909138],\n",
       "       [0.76172284],\n",
       "       [0.84114856],\n",
       "       [1.        ],\n",
       "       [0.96124414],\n",
       "       [0.98660322],\n",
       "       [0.71196196],\n",
       "       [0.49234461],\n",
       "       [0.29043097],\n",
       "       [0.31531112],\n",
       "       [0.32535885],\n",
       "       [0.29330167],\n",
       "       [0.31435442],\n",
       "       [0.29090932],\n",
       "       [0.27033493],\n",
       "       [0.19760789],\n",
       "       [0.22105298],\n",
       "       [0.21818229],\n",
       "       [0.27224892],\n",
       "       [0.12679426],\n",
       "       [0.17942584],\n",
       "       [0.23349306],\n",
       "       [0.37703373],\n",
       "       [0.08277535],\n",
       "       [0.21004796],\n",
       "       [0.25023947],\n",
       "       [0.19425884],\n",
       "       [0.28277559],\n",
       "       [0.26411518],\n",
       "       [0.29282332],\n",
       "       [0.29712965],\n",
       "       [0.28086159],\n",
       "       [0.20861291],\n",
       "       [0.31435442],\n",
       "       [0.52679473],\n",
       "       [0.36985669]])"
      ]
     },
     "execution_count": 13,
     "metadata": {},
     "output_type": "execute_result"
    }
   ],
   "source": [
    "train_data"
   ]
  },
  {
   "cell_type": "code",
   "execution_count": 14,
   "metadata": {},
   "outputs": [],
   "source": [
    "def create_dataset(dataset, time_step=1):\n",
    "    dataX, dataY = [], []\n",
    "    for i in range(len(dataset)-time_step-1):\n",
    "        a = dataset[i:(i+time_step), 0]   ###i=0, 0,1,2,3-----99   100 \n",
    "        dataX.append(a)\n",
    "        dataY.append(dataset[i + time_step, 0])\n",
    "    return np.array(dataX), np.array(dataY)"
   ]
  },
  {
   "cell_type": "code",
   "execution_count": 15,
   "metadata": {},
   "outputs": [],
   "source": [
    "# reshape into X=t,t+1,t+2,t+3 and Y=t+4\n",
    "#define x_train,y_tran and x_test,y_test\n",
    "time_step =10\n",
    "X_train, y_train = create_dataset(train_data, time_step)\n",
    "X_test, ytest = create_dataset(test_data, time_step)"
   ]
  },
  {
   "cell_type": "code",
   "execution_count": 16,
   "metadata": {},
   "outputs": [
    {
     "name": "stdout",
     "output_type": "stream",
     "text": [
      "(97, 10)\n",
      "(97,)\n"
     ]
    }
   ],
   "source": [
    "print(X_train.shape)\n",
    "print(y_train.shape)"
   ]
  },
  {
   "cell_type": "code",
   "execution_count": 17,
   "metadata": {},
   "outputs": [
    {
     "name": "stdout",
     "output_type": "stream",
     "text": [
      "(2, 10)\n",
      "(2,)\n"
     ]
    }
   ],
   "source": [
    "print(X_test.shape)\n",
    "print(ytest.shape)"
   ]
  },
  {
   "cell_type": "code",
   "execution_count": 18,
   "metadata": {},
   "outputs": [],
   "source": [
    "# reshape input to be [samples, time steps, features] which is required for LSTM\n",
    "X_train =X_train.reshape(X_train.shape[0],X_train.shape[1] , 1)\n",
    "X_test = X_test.reshape(X_test.shape[0],X_test.shape[1] , 1)"
   ]
  },
  {
   "cell_type": "markdown",
   "metadata": {},
   "source": [
    "# Define LSTM Model"
   ]
  },
  {
   "cell_type": "code",
   "execution_count": 19,
   "metadata": {},
   "outputs": [
    {
     "name": "stdout",
     "output_type": "stream",
     "text": [
      "WARNING:tensorflow:From C:\\Users\\mkmah\\anaconda3\\envs\\en_2\\lib\\site-packages\\tensorflow\\python\\ops\\init_ops.py:1251: calling VarianceScaling.__init__ (from tensorflow.python.ops.init_ops) with dtype is deprecated and will be removed in a future version.\n",
      "Instructions for updating:\n",
      "Call initializer instance with the dtype argument instead of passing it to the constructor\n"
     ]
    }
   ],
   "source": [
    "\n",
    "model=Sequential()\n",
    "model.add(LSTM(50,return_sequences=True,input_shape=(10,1)))\n",
    "model.add(LSTM(50,return_sequences=True))\n",
    "model.add(LSTM(50))\n",
    "model.add(Dense(1))\n",
    "model.compile(loss='mean_squared_error',optimizer='adam')"
   ]
  },
  {
   "cell_type": "code",
   "execution_count": 20,
   "metadata": {
    "scrolled": true
   },
   "outputs": [
    {
     "name": "stdout",
     "output_type": "stream",
     "text": [
      "Model: \"sequential\"\n",
      "_________________________________________________________________\n",
      "Layer (type)                 Output Shape              Param #   \n",
      "=================================================================\n",
      "lstm (LSTM)                  (None, 10, 50)            10400     \n",
      "_________________________________________________________________\n",
      "lstm_1 (LSTM)                (None, 10, 50)            20200     \n",
      "_________________________________________________________________\n",
      "lstm_2 (LSTM)                (None, 50)                20200     \n",
      "_________________________________________________________________\n",
      "dense (Dense)                (None, 1)                 51        \n",
      "=================================================================\n",
      "Total params: 50,851\n",
      "Trainable params: 50,851\n",
      "Non-trainable params: 0\n",
      "_________________________________________________________________\n"
     ]
    }
   ],
   "source": [
    "model.summary() #visualization of model "
   ]
  },
  {
   "cell_type": "markdown",
   "metadata": {},
   "source": [
    "# Train the Model "
   ]
  },
  {
   "cell_type": "code",
   "execution_count": 21,
   "metadata": {
    "scrolled": true
   },
   "outputs": [
    {
     "name": "stdout",
     "output_type": "stream",
     "text": [
      "Train on 97 samples, validate on 2 samples\n",
      "WARNING:tensorflow:From C:\\Users\\mkmah\\anaconda3\\envs\\en_2\\lib\\site-packages\\tensorflow\\python\\ops\\math_grad.py:1250: add_dispatch_support.<locals>.wrapper (from tensorflow.python.ops.array_ops) is deprecated and will be removed in a future version.\n",
      "Instructions for updating:\n",
      "Use tf.where in 2.0, which has the same broadcast rule as np.where\n",
      "Epoch 1/100\n",
      "97/97 [==============================] - 3s 31ms/sample - loss: 0.2865 - val_loss: 0.0649\n",
      "Epoch 2/100\n",
      "97/97 [==============================] - 0s 2ms/sample - loss: 0.2107 - val_loss: 0.0341\n",
      "Epoch 3/100\n",
      "97/97 [==============================] - 0s 2ms/sample - loss: 0.1419 - val_loss: 0.0103\n",
      "Epoch 4/100\n",
      "97/97 [==============================] - 0s 2ms/sample - loss: 0.0799 - val_loss: 0.0042\n",
      "Epoch 5/100\n",
      "97/97 [==============================] - 0s 2ms/sample - loss: 0.0493 - val_loss: 0.0269\n",
      "Epoch 6/100\n",
      "97/97 [==============================] - 0s 2ms/sample - loss: 0.0731 - val_loss: 0.0382\n",
      "Epoch 7/100\n",
      "97/97 [==============================] - 0s 2ms/sample - loss: 0.0762 - val_loss: 0.0238\n",
      "Epoch 8/100\n",
      "97/97 [==============================] - 0s 2ms/sample - loss: 0.0570 - val_loss: 0.0104\n",
      "Epoch 9/100\n",
      "97/97 [==============================] - 0s 3ms/sample - loss: 0.0482 - val_loss: 0.0048\n",
      "Epoch 10/100\n",
      "97/97 [==============================] - 0s 2ms/sample - loss: 0.0492 - val_loss: 0.0034\n",
      "Epoch 11/100\n",
      "97/97 [==============================] - 0s 2ms/sample - loss: 0.0532 - val_loss: 0.0032\n",
      "Epoch 12/100\n",
      "97/97 [==============================] - 0s 2ms/sample - loss: 0.0548 - val_loss: 0.0034\n",
      "Epoch 13/100\n",
      "97/97 [==============================] - 0s 2ms/sample - loss: 0.0527 - val_loss: 0.0041\n",
      "Epoch 14/100\n",
      "97/97 [==============================] - 0s 2ms/sample - loss: 0.0494 - val_loss: 0.0065\n",
      "Epoch 15/100\n",
      "97/97 [==============================] - 0s 2ms/sample - loss: 0.0467 - val_loss: 0.0107\n",
      "Epoch 16/100\n",
      "97/97 [==============================] - 0s 2ms/sample - loss: 0.0461 - val_loss: 0.0150\n",
      "Epoch 17/100\n",
      "97/97 [==============================] - 0s 2ms/sample - loss: 0.0483 - val_loss: 0.0174\n",
      "Epoch 18/100\n",
      "97/97 [==============================] - 0s 2ms/sample - loss: 0.0485 - val_loss: 0.0159\n",
      "Epoch 19/100\n",
      "97/97 [==============================] - 0s 2ms/sample - loss: 0.0470 - val_loss: 0.0125\n",
      "Epoch 20/100\n",
      "97/97 [==============================] - 0s 2ms/sample - loss: 0.0458 - val_loss: 0.0090\n",
      "Epoch 21/100\n",
      "97/97 [==============================] - 0s 2ms/sample - loss: 0.0455 - val_loss: 0.0070\n",
      "Epoch 22/100\n",
      "97/97 [==============================] - 0s 3ms/sample - loss: 0.0460 - val_loss: 0.0062\n",
      "Epoch 23/100\n",
      "97/97 [==============================] - 0s 3ms/sample - loss: 0.0465 - val_loss: 0.0062\n",
      "Epoch 24/100\n",
      "97/97 [==============================] - 0s 3ms/sample - loss: 0.0462 - val_loss: 0.0070\n",
      "Epoch 25/100\n",
      "97/97 [==============================] - 0s 3ms/sample - loss: 0.0453 - val_loss: 0.0084\n",
      "Epoch 26/100\n",
      "97/97 [==============================] - 0s 2ms/sample - loss: 0.0450 - val_loss: 0.0108\n",
      "Epoch 27/100\n",
      "97/97 [==============================] - 0s 2ms/sample - loss: 0.0448 - val_loss: 0.0126\n",
      "Epoch 28/100\n",
      "97/97 [==============================] - 0s 2ms/sample - loss: 0.0449 - val_loss: 0.0129\n",
      "Epoch 29/100\n",
      "97/97 [==============================] - 0s 2ms/sample - loss: 0.0449 - val_loss: 0.0122\n",
      "Epoch 30/100\n",
      "97/97 [==============================] - 0s 2ms/sample - loss: 0.0444 - val_loss: 0.0104\n",
      "Epoch 31/100\n",
      "97/97 [==============================] - 0s 2ms/sample - loss: 0.0441 - val_loss: 0.0090\n",
      "Epoch 32/100\n",
      "97/97 [==============================] - 0s 2ms/sample - loss: 0.0440 - val_loss: 0.0082\n",
      "Epoch 33/100\n",
      "97/97 [==============================] - 0s 2ms/sample - loss: 0.0439 - val_loss: 0.0083\n",
      "Epoch 34/100\n",
      "97/97 [==============================] - 0s 2ms/sample - loss: 0.0437 - val_loss: 0.0089\n",
      "Epoch 35/100\n",
      "97/97 [==============================] - 0s 2ms/sample - loss: 0.0434 - val_loss: 0.0098\n",
      "Epoch 36/100\n",
      "97/97 [==============================] - 0s 2ms/sample - loss: 0.0433 - val_loss: 0.0109\n",
      "Epoch 37/100\n",
      "97/97 [==============================] - 0s 2ms/sample - loss: 0.0431 - val_loss: 0.0113\n",
      "Epoch 38/100\n",
      "97/97 [==============================] - 0s 2ms/sample - loss: 0.0431 - val_loss: 0.0116\n",
      "Epoch 39/100\n",
      "97/97 [==============================] - 0s 2ms/sample - loss: 0.0430 - val_loss: 0.0110\n",
      "Epoch 40/100\n",
      "97/97 [==============================] - 0s 2ms/sample - loss: 0.0425 - val_loss: 0.0097\n",
      "Epoch 41/100\n",
      "97/97 [==============================] - 0s 2ms/sample - loss: 0.0425 - val_loss: 0.0087\n",
      "Epoch 42/100\n",
      "97/97 [==============================] - 0s 2ms/sample - loss: 0.0426 - val_loss: 0.0087\n",
      "Epoch 43/100\n",
      "97/97 [==============================] - 0s 2ms/sample - loss: 0.0424 - val_loss: 0.0097\n",
      "Epoch 44/100\n",
      "97/97 [==============================] - 0s 2ms/sample - loss: 0.0419 - val_loss: 0.0112\n",
      "Epoch 45/100\n",
      "97/97 [==============================] - 0s 2ms/sample - loss: 0.0419 - val_loss: 0.0129\n",
      "Epoch 46/100\n",
      "97/97 [==============================] - 0s 3ms/sample - loss: 0.0417 - val_loss: 0.0133\n",
      "Epoch 47/100\n",
      "97/97 [==============================] - 0s 3ms/sample - loss: 0.0415 - val_loss: 0.0127\n",
      "Epoch 48/100\n",
      "97/97 [==============================] - 0s 3ms/sample - loss: 0.0411 - val_loss: 0.0119\n",
      "Epoch 49/100\n",
      "97/97 [==============================] - 0s 3ms/sample - loss: 0.0410 - val_loss: 0.0115\n",
      "Epoch 50/100\n",
      "97/97 [==============================] - 0s 2ms/sample - loss: 0.0408 - val_loss: 0.0120\n",
      "Epoch 51/100\n",
      "97/97 [==============================] - 0s 2ms/sample - loss: 0.0405 - val_loss: 0.0131\n",
      "Epoch 52/100\n",
      "97/97 [==============================] - 0s 2ms/sample - loss: 0.0402 - val_loss: 0.0145\n",
      "Epoch 53/100\n",
      "97/97 [==============================] - 0s 2ms/sample - loss: 0.0406 - val_loss: 0.0157\n",
      "Epoch 54/100\n",
      "97/97 [==============================] - 0s 3ms/sample - loss: 0.0398 - val_loss: 0.0143\n",
      "Epoch 55/100\n",
      "97/97 [==============================] - 0s 2ms/sample - loss: 0.0396 - val_loss: 0.0137\n",
      "Epoch 56/100\n",
      "97/97 [==============================] - 0s 2ms/sample - loss: 0.0394 - val_loss: 0.0146\n",
      "Epoch 57/100\n",
      "97/97 [==============================] - 0s 2ms/sample - loss: 0.0390 - val_loss: 0.0174\n",
      "Epoch 58/100\n",
      "97/97 [==============================] - 0s 2ms/sample - loss: 0.0386 - val_loss: 0.0192\n",
      "Epoch 59/100\n",
      "97/97 [==============================] - 0s 2ms/sample - loss: 0.0388 - val_loss: 0.0206\n",
      "Epoch 60/100\n",
      "97/97 [==============================] - 0s 2ms/sample - loss: 0.0382 - val_loss: 0.0184\n",
      "Epoch 61/100\n",
      "97/97 [==============================] - 0s 2ms/sample - loss: 0.0376 - val_loss: 0.0179\n",
      "Epoch 62/100\n",
      "97/97 [==============================] - 0s 2ms/sample - loss: 0.0374 - val_loss: 0.0195\n",
      "Epoch 63/100\n",
      "97/97 [==============================] - 0s 2ms/sample - loss: 0.0369 - val_loss: 0.0218\n",
      "Epoch 64/100\n",
      "97/97 [==============================] - 0s 2ms/sample - loss: 0.0365 - val_loss: 0.0250\n",
      "Epoch 65/100\n",
      "97/97 [==============================] - 0s 2ms/sample - loss: 0.0359 - val_loss: 0.0262\n",
      "Epoch 66/100\n",
      "97/97 [==============================] - 0s 2ms/sample - loss: 0.0356 - val_loss: 0.0272\n",
      "Epoch 67/100\n",
      "97/97 [==============================] - 0s 3ms/sample - loss: 0.0350 - val_loss: 0.0269\n",
      "Epoch 68/100\n",
      "97/97 [==============================] - 0s 2ms/sample - loss: 0.0346 - val_loss: 0.0301\n",
      "Epoch 69/100\n",
      "97/97 [==============================] - 0s 3ms/sample - loss: 0.0341 - val_loss: 0.0362\n",
      "Epoch 70/100\n",
      "97/97 [==============================] - 0s 3ms/sample - loss: 0.0333 - val_loss: 0.0398\n",
      "Epoch 71/100\n",
      "97/97 [==============================] - 0s 4ms/sample - loss: 0.0327 - val_loss: 0.0436\n",
      "Epoch 72/100\n",
      "97/97 [==============================] - 0s 3ms/sample - loss: 0.0321 - val_loss: 0.0482\n",
      "Epoch 73/100\n",
      "97/97 [==============================] - 0s 2ms/sample - loss: 0.0313 - val_loss: 0.0531\n",
      "Epoch 74/100\n",
      "97/97 [==============================] - 0s 2ms/sample - loss: 0.0309 - val_loss: 0.0596\n",
      "Epoch 75/100\n",
      "97/97 [==============================] - 0s 2ms/sample - loss: 0.0304 - val_loss: 0.0716\n",
      "Epoch 76/100\n",
      "97/97 [==============================] - 0s 2ms/sample - loss: 0.0302 - val_loss: 0.0731\n",
      "Epoch 77/100\n",
      "97/97 [==============================] - 0s 2ms/sample - loss: 0.0289 - val_loss: 0.0881\n",
      "Epoch 78/100\n",
      "97/97 [==============================] - 0s 2ms/sample - loss: 0.0287 - val_loss: 0.0954\n",
      "Epoch 79/100\n",
      "97/97 [==============================] - 0s 2ms/sample - loss: 0.0295 - val_loss: 0.0951\n",
      "Epoch 80/100\n",
      "97/97 [==============================] - 0s 2ms/sample - loss: 0.0276 - val_loss: 0.1172\n",
      "Epoch 81/100\n",
      "97/97 [==============================] - 0s 2ms/sample - loss: 0.0285 - val_loss: 0.1147\n",
      "Epoch 82/100\n",
      "97/97 [==============================] - 0s 2ms/sample - loss: 0.0272 - val_loss: 0.1035\n",
      "Epoch 83/100\n",
      "97/97 [==============================] - 0s 2ms/sample - loss: 0.0284 - val_loss: 0.1216\n",
      "Epoch 84/100\n",
      "97/97 [==============================] - 0s 2ms/sample - loss: 0.0270 - val_loss: 0.1369\n",
      "Epoch 85/100\n",
      "97/97 [==============================] - 0s 2ms/sample - loss: 0.0283 - val_loss: 0.1119\n",
      "Epoch 86/100\n",
      "97/97 [==============================] - 0s 2ms/sample - loss: 0.0266 - val_loss: 0.1033\n",
      "Epoch 87/100\n",
      "97/97 [==============================] - 0s 2ms/sample - loss: 0.0275 - val_loss: 0.1143\n",
      "Epoch 88/100\n",
      "97/97 [==============================] - 0s 2ms/sample - loss: 0.0269 - val_loss: 0.1277\n",
      "Epoch 89/100\n",
      "97/97 [==============================] - 0s 2ms/sample - loss: 0.0272 - val_loss: 0.0994\n",
      "Epoch 90/100\n",
      "97/97 [==============================] - 0s 2ms/sample - loss: 0.0285 - val_loss: 0.0853\n",
      "Epoch 91/100\n",
      "97/97 [==============================] - 0s 2ms/sample - loss: 0.0265 - val_loss: 0.1098\n",
      "Epoch 92/100\n",
      "97/97 [==============================] - 0s 2ms/sample - loss: 0.0275 - val_loss: 0.1206\n",
      "Epoch 93/100\n",
      "97/97 [==============================] - 0s 3ms/sample - loss: 0.0275 - val_loss: 0.0925\n",
      "Epoch 94/100\n",
      "97/97 [==============================] - 0s 3ms/sample - loss: 0.0250 - val_loss: 0.0782\n",
      "Epoch 95/100\n",
      "97/97 [==============================] - 0s 3ms/sample - loss: 0.0276 - val_loss: 0.0837\n",
      "Epoch 96/100\n",
      "97/97 [==============================] - 0s 3ms/sample - loss: 0.0254 - val_loss: 0.1104\n",
      "Epoch 97/100\n",
      "97/97 [==============================] - 0s 2ms/sample - loss: 0.0260 - val_loss: 0.1161\n",
      "Epoch 98/100\n",
      "97/97 [==============================] - 0s 2ms/sample - loss: 0.0258 - val_loss: 0.0981\n",
      "Epoch 99/100\n",
      "97/97 [==============================] - 0s 2ms/sample - loss: 0.0248 - val_loss: 0.0890\n",
      "Epoch 100/100\n",
      "97/97 [==============================] - 0s 2ms/sample - loss: 0.0252 - val_loss: 0.1004\n"
     ]
    },
    {
     "data": {
      "text/plain": [
       "<tensorflow.python.keras.callbacks.History at 0x20c8394dac8>"
      ]
     },
     "execution_count": 21,
     "metadata": {},
     "output_type": "execute_result"
    }
   ],
   "source": [
    "model.fit(X_train,y_train,validation_data=(X_test,ytest),epochs=100,batch_size=60,verbose=1)"
   ]
  },
  {
   "cell_type": "markdown",
   "metadata": {},
   "source": [
    "# Prediction Step"
   ]
  },
  {
   "cell_type": "code",
   "execution_count": 22,
   "metadata": {},
   "outputs": [],
   "source": [
    "### Lets Do the prediction and check performance metrics\n",
    "train_predict=model.predict(X_train)\n",
    "test_predict=model.predict(X_test)"
   ]
  },
  {
   "cell_type": "code",
   "execution_count": 23,
   "metadata": {},
   "outputs": [
    {
     "data": {
      "text/plain": [
       "(97, 1)"
      ]
     },
     "execution_count": 23,
     "metadata": {},
     "output_type": "execute_result"
    }
   ],
   "source": [
    "train_predict.shape"
   ]
  },
  {
   "cell_type": "code",
   "execution_count": 24,
   "metadata": {},
   "outputs": [
    {
     "data": {
      "text/plain": [
       "(2, 1)"
      ]
     },
     "execution_count": 24,
     "metadata": {},
     "output_type": "execute_result"
    }
   ],
   "source": [
    "test_predict.shape"
   ]
  },
  {
   "cell_type": "code",
   "execution_count": 25,
   "metadata": {},
   "outputs": [],
   "source": [
    "##Transformback to original form\n",
    "train_predict=scaler.inverse_transform(train_predict)\n",
    "test_predict=scaler.inverse_transform(test_predict)"
   ]
  },
  {
   "cell_type": "code",
   "execution_count": 26,
   "metadata": {},
   "outputs": [
    {
     "data": {
      "text/plain": [
       "933.7079562410888"
      ]
     },
     "execution_count": 26,
     "metadata": {},
     "output_type": "execute_result"
    }
   ],
   "source": [
    "#### Train Data RMSE\n",
    "import math\n",
    "from sklearn.metrics import mean_squared_error\n",
    "math.sqrt(mean_squared_error(y_train,train_predict))\n"
   ]
  },
  {
   "cell_type": "code",
   "execution_count": 27,
   "metadata": {},
   "outputs": [
    {
     "data": {
      "text/plain": [
       "949.0623500052513"
      ]
     },
     "execution_count": 27,
     "metadata": {},
     "output_type": "execute_result"
    }
   ],
   "source": [
    "### Test Data RMSE\n",
    "math.sqrt(mean_squared_error(ytest,test_predict))"
   ]
  },
  {
   "cell_type": "code",
   "execution_count": 28,
   "metadata": {
    "scrolled": false
   },
   "outputs": [
    {
     "data": {
      "image/png": "[encoded data removed]",
      "text/plain": [
       "<Figure size 432x288 with 1 Axes>"
      ]
     },
     "metadata": {
      "needs_background": "light"
     },
     "output_type": "display_data"
    },
    {
     "data": {
      "text/plain": [
       "<Figure size 432x288 with 0 Axes>"
      ]
     },
     "metadata": {},
     "output_type": "display_data"
    }
   ],
   "source": [
    "### Plotting \n",
    "# shift train predictions for plotting\n",
    "look_back=10\n",
    "trainPredictPlot = np.empty_like(df1)\n",
    "trainPredictPlot[:, :] = np.nan\n",
    "trainPredictPlot[look_back:len(train_predict)+look_back, :] = train_predict\n",
    "# shift test predictions for plotting\n",
    "testPredictPlot = np.empty_like(df1)\n",
    "testPredictPlot[:, :] = np.nan\n",
    "testPredictPlot[len(train_predict)+(look_back*2)+1:len(df1)-1, :] = test_predict\n",
    "\n",
    "# plot baseline and predictions\n",
    "plt.plot(scaler.inverse_transform(df1))\n",
    "plt.title(\"Model\")\n",
    "plt.xlabel(\"days\")\n",
    "plt.ylabel(\"Stock Price\")\n",
    "plt.plot(trainPredictPlot)\n",
    "plt.plot(testPredictPlot)\n",
    "plt.legend(['Actual Price', 'train data predictions','test data prediction'], loc = 'upper left')\n",
    "\n",
    "\n",
    "plt.show()\n",
    "plt.savefig(\"prediction.jpg\")"
   ]
  },
  {
   "cell_type": "markdown",
   "metadata": {},
   "source": [
    "# Define an  strategy for next 30 days stock prediction "
   ]
  },
  {
   "cell_type": "code",
   "execution_count": 29,
   "metadata": {},
   "outputs": [
    {
     "data": {
      "text/plain": [
       "13"
      ]
     },
     "execution_count": 29,
     "metadata": {},
     "output_type": "execute_result"
    }
   ],
   "source": [
    "len(test_data)"
   ]
  },
  {
   "cell_type": "code",
   "execution_count": 30,
   "metadata": {},
   "outputs": [
    {
     "data": {
      "text/plain": [
       "(1, 10)"
      ]
     },
     "execution_count": 30,
     "metadata": {},
     "output_type": "execute_result"
    }
   ],
   "source": [
    "x_input=test_data[len(test_data)-10:].reshape(1,-1)\n",
    "x_input.shape"
   ]
  },
  {
   "cell_type": "code",
   "execution_count": 31,
   "metadata": {},
   "outputs": [],
   "source": [
    "temp_input=list(x_input)\n",
    "temp_input=temp_input[0].tolist()"
   ]
  },
  {
   "cell_type": "code",
   "execution_count": 32,
   "metadata": {},
   "outputs": [
    {
     "data": {
      "text/plain": [
       "10"
      ]
     },
     "execution_count": 32,
     "metadata": {},
     "output_type": "execute_result"
    }
   ],
   "source": [
    "len(temp_input)"
   ]
  },
  {
   "cell_type": "code",
   "execution_count": 33,
   "metadata": {
    "scrolled": true
   },
   "outputs": [
    {
     "name": "stdout",
     "output_type": "stream",
     "text": [
      "[[0.4564570188522339], [0.3825814723968506], [0.332436203956604], [0.3071175515651703], [0.3302735686302185], [0.3519230782985687], [0.37563401460647583], [0.38563990592956543], [0.396047979593277], [0.4047897756099701], [0.4073827862739563], [0.42277976870536804], [0.43453744053840637], [0.4436030089855194], [0.4507959485054016], [0.4579275846481323], [0.46488824486732483], [0.4717599153518677], [0.4779784679412842], [0.4836149513721466], [0.4886455833911896], [0.49282151460647583], [0.4967849850654602], [0.5004020929336548], [0.5035995841026306], [0.5063502788543701], [0.5087143778800964], [0.5107413530349731], [0.5124828219413757], [0.5139609575271606]]\n"
     ]
    }
   ],
   "source": [
    "# demonstrate prediction for next 30 days\n",
    "from numpy import array\n",
    "\n",
    "lst_output=[]\n",
    "n_steps=10\n",
    "i=0\n",
    "\n",
    "#in this loop first loop else will run and predict the next 1 day price\n",
    "#and we add that 1 day price to temp_input\n",
    "#so temp_input will increse by 1 and \"if\" loop will run and it take again data from 1st data to end \n",
    "#and so on this while run runs for 30 times and each time it predict the price of next day\n",
    "\n",
    "\n",
    "while(i<30):\n",
    "    \n",
    "    if(len(temp_input)>10):\n",
    "        #print(temp_input)\n",
    "        x_input=np.array(temp_input[1:])\n",
    "        #print(\"{} day input {}\".format(i,x_input))\n",
    "        x_input=x_input.reshape(1,-1)\n",
    "        x_input = x_input.reshape((1, n_steps, 1))\n",
    "        #print(x_input)\n",
    "        yhat = model.predict(x_input, verbose=0)\n",
    "        #print(\"{} day output {}\".format(i,yhat))\n",
    "        temp_input.extend(yhat[0].tolist())\n",
    "        temp_input=temp_input[1:]\n",
    "        #print(temp_input)\n",
    "        lst_output.extend(yhat.tolist())\n",
    "        i=i+1\n",
    "    else:\n",
    "        x_input = x_input.reshape((1, n_steps,1))\n",
    "        yhat = model.predict(x_input, verbose=0)\n",
    "        #print(yhat[0])\n",
    "        temp_input.extend(yhat[0].tolist())\n",
    "        #print(len(temp_input))\n",
    "        lst_output.extend(yhat.tolist())\n",
    "        i=i+1\n",
    "    \n",
    "\n",
    "print(lst_output)"
   ]
  },
  {
   "cell_type": "code",
   "execution_count": 34,
   "metadata": {},
   "outputs": [],
   "source": [
    "#define price at 30th day\n",
    "price_at_30th_day = scaler.inverse_transform([lst_output[-1]]).item(0)"
   ]
  },
  {
   "cell_type": "code",
   "execution_count": 35,
   "metadata": {},
   "outputs": [],
   "source": [
    "day_new=np.arange(1,101)\n",
    "day_pred=np.arange(101,101+30)"
   ]
  },
  {
   "cell_type": "code",
   "execution_count": 36,
   "metadata": {
    "scrolled": true
   },
   "outputs": [
    {
     "data": {
      "text/plain": [
       "30"
      ]
     },
     "execution_count": 36,
     "metadata": {},
     "output_type": "execute_result"
    }
   ],
   "source": [
    "len(lst_output)"
   ]
  },
  {
   "cell_type": "code",
   "execution_count": 38,
   "metadata": {},
   "outputs": [
    {
     "data": {
      "image/png": "[encoded data removed]",
      "text/plain": [
       "<Figure size 432x288 with 1 Axes>"
      ]
     },
     "metadata": {
      "needs_background": "light"
     },
     "output_type": "display_data"
    }
   ],
   "source": [
    "plt.plot(day_new,scaler.inverse_transform(df1[len(df1)-100:]))\n",
    "plt.plot(day_pred,scaler.inverse_transform(lst_output))\n",
    "plt.xlabel(\"days\")\n",
    "plt.ylabel(\"price\")\n",
    "plt.legend(['Actual Price', 'next 30 days prediction'], loc = 'upper left')\n",
    "\n",
    "plt.show\n",
    "plt.savefig(\"next_30 days.jpg\")"
   ]
  },
  {
   "cell_type": "code",
   "execution_count": 39,
   "metadata": {},
   "outputs": [
    {
     "data": {
      "text/plain": [
       "[<matplotlib.lines.Line2D at 0x20ce710d208>]"
      ]
     },
     "execution_count": 39,
     "metadata": {},
     "output_type": "execute_result"
    },
    {
     "data": {
      "image/png": "[encoded data removed]",
      "text/plain": [
       "<Figure size 432x288 with 1 Axes>"
      ]
     },
     "metadata": {
      "needs_background": "light"
     },
     "output_type": "display_data"
    }
   ],
   "source": [
    "df3=df1.tolist()\n",
    "df3.extend(lst_output)\n",
    "plt.plot(df3)"
   ]
  },
  {
   "cell_type": "code",
   "execution_count": 40,
   "metadata": {},
   "outputs": [],
   "source": [
    "df3=scaler.inverse_transform(df3).tolist()"
   ]
  },
  {
   "cell_type": "code",
   "execution_count": 42,
   "metadata": {
    "scrolled": true
   },
   "outputs": [
    {
     "data": {
      "image/png": "[encoded data removed]",
      "text/plain": [
       "<Figure size 432x288 with 1 Axes>"
      ]
     },
     "metadata": {
      "needs_background": "light"
     },
     "output_type": "display_data"
    },
    {
     "data": {
      "text/plain": [
       "<Figure size 432x288 with 0 Axes>"
      ]
     },
     "metadata": {},
     "output_type": "display_data"
    }
   ],
   "source": [
    "plt_of_next_30days=plt.plot(df3[len(df3)-30:])\n",
    "plt.xlabel(\"days\")\n",
    "plt.ylabel(\"price\")\n",
    "plt_of_next_30days\n",
    "plt.show()\n",
    "plt.savefig(\"only_next_30_days.jpg\")"
   ]
  },
  {
   "cell_type": "code",
   "execution_count": 43,
   "metadata": {},
   "outputs": [
    {
     "data": {
      "text/plain": [
       "936.8088956475257"
      ]
     },
     "execution_count": 43,
     "metadata": {},
     "output_type": "execute_result"
    }
   ],
   "source": [
    "price_at_30th_day"
   ]
  },
  {
   "cell_type": "markdown",
   "metadata": {},
   "source": [
    "this is our model for 1 companies \n",
    "now we will run this model to S&P 500 \n",
    "and predict the future price of all company's and calculate the total return in end of next month according to our model prediction model "
   ]
  },
  {
   "cell_type": "code",
   "execution_count": null,
   "metadata": {},
   "outputs": [],
   "source": []
  }
 ],
 "metadata": {
  "kernelspec": {
   "display_name": "Python 3",
   "language": "python",
   "name": "python3"
  },
  "language_info": {
   "codemirror_mode": {
    "name": "ipython",
    "version": 3
   },
   "file_extension": ".py",
   "mimetype": "text/x-python",
   "name": "python",
   "nbconvert_exporter": "python",
   "pygments_lexer": "ipython3",
   "version": "3.6.13"
  }
 },
 "nbformat": 4,
 "nbformat_minor": 1
}
